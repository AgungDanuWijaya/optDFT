{
  "nbformat": 4,
  "nbformat_minor": 0,
  "metadata": {
    "colab": {
      "provenance": [],
      "authorship_tag": "ABX9TyOIok4MLR7RBKkFer/1I9Kj",
      "include_colab_link": true
    },
    "kernelspec": {
      "name": "python3",
      "display_name": "Python 3"
    },
    "language_info": {
      "name": "python"
    }
  },
  "cells": [
    {
      "cell_type": "markdown",
      "metadata": {
        "id": "view-in-github",
        "colab_type": "text"
      },
      "source": [
        "<a href=\"https://colab.research.google.com/github/AgungDanuWijaya/optDFT/blob/main/xcnn(op).ipynb\" target=\"_parent\"><img src=\"https://colab.research.google.com/assets/colab-badge.svg\" alt=\"Open In Colab\"/></a>"
      ]
    },
    {
      "cell_type": "code",
      "execution_count": null,
      "metadata": {
        "id": "JUZ5G5w_ZV7H"
      },
      "outputs": [],
      "source": [
        "pip install pyscf==2.4.0"
      ]
    },
    {
      "cell_type": "code",
      "source": [
        "pip install numpy==1.26.4"
      ],
      "metadata": {
        "id": "mgkBZYfLaDVR"
      },
      "execution_count": null,
      "outputs": []
    },
    {
      "cell_type": "code",
      "source": [
        "pip install jax"
      ],
      "metadata": {
        "id": "NltLY5GbaP5t"
      },
      "execution_count": null,
      "outputs": []
    },
    {
      "cell_type": "code",
      "source": [
        "pip install torch==2.1.1"
      ],
      "metadata": {
        "id": "pVKAgYY0ar3m"
      },
      "execution_count": null,
      "outputs": []
    },
    {
      "cell_type": "code",
      "source": [
        "!git clone https://github.com/AgungDanuWijaya/optDFT.git"
      ],
      "metadata": {
        "id": "NjFRHy41uieR"
      },
      "execution_count": null,
      "outputs": []
    },
    {
      "cell_type": "code",
      "source": [
        "from pyscf import gto, dft, scf, cc\n",
        "from optDFT.test.xcnn_op import ml_xc as ml_xc\n",
        "mol = gto.Mole()\n",
        "mol.verbose = 4\n",
        "\n",
        "mol.atom=\"\"\"8            .000000     .000000     .119262\n",
        "1            .000000     .763239    -.477047\n",
        "1            .000000    -.763239    -.477047\"\"\"\n",
        "mol.charge=0\n",
        "mol.spin  =0\n",
        "mol.basis = \"aug-cc-pvdz\"\n",
        "mol.build()\n",
        "mfl = dft.UKS(mol)\n",
        "mfl.define_xc_(ml_xc.eval_xc_lyp_b, xctype='GGA', hyb=ml_xc.w_[0])\n",
        "mfl.xc = \"HF,\"\n",
        "energy=mfl.kernel()\n",
        "print(energy)\n"
      ],
      "metadata": {
        "id": "nhytp1D0lgVK"
      },
      "execution_count": null,
      "outputs": []
    }
  ]
}