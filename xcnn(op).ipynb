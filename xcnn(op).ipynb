{
  "nbformat": 4,
  "nbformat_minor": 0,
  "metadata": {
    "colab": {
      "provenance": [],
      "authorship_tag": "ABX9TyPGxwlzgtDIx9aRd1dS4bTn",
      "include_colab_link": true
    },
    "kernelspec": {
      "name": "python3",
      "display_name": "Python 3"
    },
    "language_info": {
      "name": "python"
    }
  },
  "cells": [
    {
      "cell_type": "markdown",
      "metadata": {
        "id": "view-in-github",
        "colab_type": "text"
      },
      "source": [
        "<a href=\"https://colab.research.google.com/github/AgungDanuWijaya/optDFT/blob/main/xcnn(op).ipynb\" target=\"_parent\"><img src=\"https://colab.research.google.com/assets/colab-badge.svg\" alt=\"Open In Colab\"/></a>"
      ]
    },
    {
      "cell_type": "code",
      "execution_count": null,
      "metadata": {
        "colab": {
          "base_uri": "https://localhost:8080/"
        },
        "id": "JUZ5G5w_ZV7H",
        "outputId": "04d87102-6467-4aaa-fc3a-ce0946b91244"
      },
      "outputs": [
        {
          "output_type": "stream",
          "name": "stdout",
          "text": [
            "Collecting pyscf==2.4.0\n",
            "  Downloading pyscf-2.4.0-py3-none-manylinux_2_17_x86_64.manylinux2014_x86_64.whl.metadata (3.1 kB)\n",
            "Requirement already satisfied: numpy!=1.16,!=1.17,>=1.13 in /usr/local/lib/python3.11/dist-packages (from pyscf==2.4.0) (1.26.4)\n",
            "Requirement already satisfied: scipy!=1.5.0,!=1.5.1 in /usr/local/lib/python3.11/dist-packages (from pyscf==2.4.0) (1.13.1)\n",
            "Requirement already satisfied: h5py>=2.7 in /usr/local/lib/python3.11/dist-packages (from pyscf==2.4.0) (3.12.1)\n",
            "Requirement already satisfied: setuptools in /usr/local/lib/python3.11/dist-packages (from pyscf==2.4.0) (75.1.0)\n",
            "Downloading pyscf-2.4.0-py3-none-manylinux_2_17_x86_64.manylinux2014_x86_64.whl (47.3 MB)\n",
            "\u001b[2K   \u001b[90m━━━━━━━━━━━━━━━━━━━━━━━━━━━━━━━━━━━━━━━━\u001b[0m \u001b[32m47.3/47.3 MB\u001b[0m \u001b[31m9.6 MB/s\u001b[0m eta \u001b[36m0:00:00\u001b[0m\n",
            "\u001b[?25hInstalling collected packages: pyscf\n",
            "Successfully installed pyscf-2.4.0\n"
          ]
        }
      ],
      "source": [
        "pip install pyscf==2.4.0"
      ]
    },
    {
      "cell_type": "code",
      "source": [
        "pip install numpy==1.26.4"
      ],
      "metadata": {
        "colab": {
          "base_uri": "https://localhost:8080/"
        },
        "id": "mgkBZYfLaDVR",
        "outputId": "49021c60-5442-46be-c93a-43d22b93d771"
      },
      "execution_count": null,
      "outputs": [
        {
          "output_type": "stream",
          "name": "stdout",
          "text": [
            "Requirement already satisfied: numpy==1.26.4 in /usr/local/lib/python3.11/dist-packages (1.26.4)\n"
          ]
        }
      ]
    },
    {
      "cell_type": "code",
      "source": [
        "pip install jax"
      ],
      "metadata": {
        "colab": {
          "base_uri": "https://localhost:8080/"
        },
        "id": "NltLY5GbaP5t",
        "outputId": "5d25ce30-63af-4738-999e-a18c705f8f36"
      },
      "execution_count": 6,
      "outputs": [
        {
          "output_type": "stream",
          "name": "stdout",
          "text": [
            "Requirement already satisfied: jax in /usr/local/lib/python3.11/dist-packages (0.4.33)\n",
            "Requirement already satisfied: jaxlib<=0.4.33,>=0.4.33 in /usr/local/lib/python3.11/dist-packages (from jax) (0.4.33)\n",
            "Requirement already satisfied: ml-dtypes>=0.2.0 in /usr/local/lib/python3.11/dist-packages (from jax) (0.4.1)\n",
            "Requirement already satisfied: numpy>=1.24 in /usr/local/lib/python3.11/dist-packages (from jax) (1.26.4)\n",
            "Requirement already satisfied: opt-einsum in /usr/local/lib/python3.11/dist-packages (from jax) (3.4.0)\n",
            "Requirement already satisfied: scipy>=1.10 in /usr/local/lib/python3.11/dist-packages (from jax) (1.13.1)\n"
          ]
        }
      ]
    },
    {
      "cell_type": "code",
      "source": [
        "pip install torch==2.1.1"
      ],
      "metadata": {
        "colab": {
          "base_uri": "https://localhost:8080/"
        },
        "id": "pVKAgYY0ar3m",
        "outputId": "c6fcb959-413e-409f-9f3c-1e6d0e0ae9c2"
      },
      "execution_count": 7,
      "outputs": [
        {
          "output_type": "stream",
          "name": "stdout",
          "text": [
            "Requirement already satisfied: torch==2.1.1 in /usr/local/lib/python3.11/dist-packages (2.1.1)\n",
            "Requirement already satisfied: filelock in /usr/local/lib/python3.11/dist-packages (from torch==2.1.1) (3.17.0)\n",
            "Requirement already satisfied: typing-extensions in /usr/local/lib/python3.11/dist-packages (from torch==2.1.1) (4.12.2)\n",
            "Requirement already satisfied: sympy in /usr/local/lib/python3.11/dist-packages (from torch==2.1.1) (1.13.1)\n",
            "Requirement already satisfied: networkx in /usr/local/lib/python3.11/dist-packages (from torch==2.1.1) (3.4.2)\n",
            "Requirement already satisfied: jinja2 in /usr/local/lib/python3.11/dist-packages (from torch==2.1.1) (3.1.5)\n",
            "Requirement already satisfied: fsspec in /usr/local/lib/python3.11/dist-packages (from torch==2.1.1) (2024.10.0)\n",
            "Requirement already satisfied: nvidia-cuda-nvrtc-cu12==12.1.105 in /usr/local/lib/python3.11/dist-packages (from torch==2.1.1) (12.1.105)\n",
            "Requirement already satisfied: nvidia-cuda-runtime-cu12==12.1.105 in /usr/local/lib/python3.11/dist-packages (from torch==2.1.1) (12.1.105)\n",
            "Requirement already satisfied: nvidia-cuda-cupti-cu12==12.1.105 in /usr/local/lib/python3.11/dist-packages (from torch==2.1.1) (12.1.105)\n",
            "Requirement already satisfied: nvidia-cudnn-cu12==8.9.2.26 in /usr/local/lib/python3.11/dist-packages (from torch==2.1.1) (8.9.2.26)\n",
            "Requirement already satisfied: nvidia-cublas-cu12==12.1.3.1 in /usr/local/lib/python3.11/dist-packages (from torch==2.1.1) (12.1.3.1)\n",
            "Requirement already satisfied: nvidia-cufft-cu12==11.0.2.54 in /usr/local/lib/python3.11/dist-packages (from torch==2.1.1) (11.0.2.54)\n",
            "Requirement already satisfied: nvidia-curand-cu12==10.3.2.106 in /usr/local/lib/python3.11/dist-packages (from torch==2.1.1) (10.3.2.106)\n",
            "Requirement already satisfied: nvidia-cusolver-cu12==11.4.5.107 in /usr/local/lib/python3.11/dist-packages (from torch==2.1.1) (11.4.5.107)\n",
            "Requirement already satisfied: nvidia-cusparse-cu12==12.1.0.106 in /usr/local/lib/python3.11/dist-packages (from torch==2.1.1) (12.1.0.106)\n",
            "Requirement already satisfied: nvidia-nccl-cu12==2.18.1 in /usr/local/lib/python3.11/dist-packages (from torch==2.1.1) (2.18.1)\n",
            "Requirement already satisfied: nvidia-nvtx-cu12==12.1.105 in /usr/local/lib/python3.11/dist-packages (from torch==2.1.1) (12.1.105)\n",
            "Requirement already satisfied: triton==2.1.0 in /usr/local/lib/python3.11/dist-packages (from torch==2.1.1) (2.1.0)\n",
            "Requirement already satisfied: nvidia-nvjitlink-cu12 in /usr/local/lib/python3.11/dist-packages (from nvidia-cusolver-cu12==11.4.5.107->torch==2.1.1) (12.5.82)\n",
            "Requirement already satisfied: MarkupSafe>=2.0 in /usr/local/lib/python3.11/dist-packages (from jinja2->torch==2.1.1) (3.0.2)\n",
            "Requirement already satisfied: mpmath<1.4,>=1.1.0 in /usr/local/lib/python3.11/dist-packages (from sympy->torch==2.1.1) (1.3.0)\n"
          ]
        }
      ]
    },
    {
      "cell_type": "code",
      "source": [
        "from pyscf import gto, dft, scf, cc\n",
        "import ml_xc as ml_xc\n",
        "mol = gto.Mole()\n",
        "mol.verbose = 4\n",
        "\n",
        "mol.atom=\"\"\"8            .000000     .000000     .119262\n",
        "1            .000000     .763239    -.477047\n",
        "1            .000000    -.763239    -.477047\"\"\"\n",
        "mol.charge=0\n",
        "mol.spin  =0\n",
        "mol.basis = \"aug-cc-pvdz\"\n",
        "mol.build()\n",
        "mfl = dft.UKS(mol)\n",
        "mfl.define_xc_(ml_xc.eval_xc_lyp_b, xctype='GGA', hyb=ml_xc.w_[0])\n",
        "mfl.xc = \"HF,\"\n",
        "energy=mfl.kernel()\n",
        "print(energy)\n"
      ],
      "metadata": {
        "colab": {
          "base_uri": "https://localhost:8080/"
        },
        "id": "nhytp1D0lgVK",
        "outputId": "9e96e15c-de24-4fce-8fad-f5d7f37ffcd3"
      },
      "execution_count": 8,
      "outputs": [
        {
          "output_type": "stream",
          "name": "stderr",
          "text": [
            "/usr/local/lib/python3.11/dist-packages/pyscf/dft/libxc.py:771: UserWarning: Since PySCF-2.3, B3LYP (and B3P86) are changed to the VWN-RPA variant, corresponding to the original definition by Stephens et al. (issue 1480) and the same as the B3LYP functional in Gaussian. To restore the VWN5 definition, you can put the setting \"B3LYP_WITH_VWN5 = True\" in pyscf_conf.py\n",
            "  warnings.warn('Since PySCF-2.3, B3LYP (and B3P86) are changed to the VWN-RPA variant, '\n"
          ]
        },
        {
          "output_type": "stream",
          "name": "stdout",
          "text": [
            "System: uname_result(system='Linux', node='3c8bcfd0d069', release='6.1.85+', version='#1 SMP PREEMPT_DYNAMIC Thu Jun 27 21:05:47 UTC 2024', machine='x86_64')  Threads 2\n",
            "Python 3.11.11 (main, Dec  4 2024, 08:55:07) [GCC 11.4.0]\n",
            "numpy 1.26.4  scipy 1.13.1\n",
            "Date: Fri Feb  7 13:50:22 2025\n",
            "PySCF version 2.4.0\n",
            "PySCF path  /usr/local/lib/python3.11/dist-packages/pyscf\n",
            "\n",
            "[CONFIG] conf_file None\n",
            "[INPUT] verbose = 4\n",
            "[INPUT] num. atoms = 3\n",
            "[INPUT] num. electrons = 10\n",
            "[INPUT] charge = 0\n",
            "[INPUT] spin (= nelec alpha-beta = 2S) = 0\n",
            "[INPUT] symmetry False subgroup None\n",
            "[INPUT] Mole.unit = angstrom\n",
            "[INPUT] Symbol           X                Y                Z      unit          X                Y                Z       unit  Magmom\n",
            "[INPUT]  1 O      0.000000000000   0.000000000000   0.119262000000 AA    0.000000000000   0.000000000000   0.225372517068 Bohr   0.0\n",
            "[INPUT]  2 H      0.000000000000   0.763239000000  -0.477047000000 AA    0.000000000000   1.442312677587  -0.901488178545 Bohr   0.0\n",
            "[INPUT]  3 H      0.000000000000  -0.763239000000  -0.477047000000 AA    0.000000000000  -1.442312677587  -0.901488178545 Bohr   0.0\n",
            "\n",
            "nuclear repulsion = 9.08829376913928\n",
            "number of shells = 18\n",
            "number of NR pGTOs = 57\n",
            "number of NR cGTOs = 41\n",
            "basis = aug-cc-pvdz\n",
            "ecp = {}\n",
            "CPU time:        12.91\n",
            "\n",
            "\n",
            "******** <class 'pyscf.dft.uks.UKS'> ********\n",
            "method = UKS\n",
            "initial guess = minao\n",
            "damping factor = 0\n",
            "level_shift factor = 0\n",
            "DIIS = <class 'pyscf.scf.diis.CDIIS'>\n",
            "diis_start_cycle = 1\n",
            "diis_space = 8\n",
            "SCF conv_tol = 1e-09\n",
            "SCF conv_tol_grad = None\n",
            "SCF max_cycles = 50\n",
            "direct_scf = True\n",
            "direct_scf_tol = 1e-13\n",
            "chkfile to save SCF result = /tmp/tmp_h0eou55\n",
            "max_memory 4000 MB (current use 585 MB)\n",
            "number electrons alpha = 5  beta = 5\n",
            "XC library pyscf.dft.libxc version 6.1.0\n",
            "    S. Lehtola, C. Steigemann, M. J.T. Oliveira, and M. A.L. Marques.,  SoftwareX 7, 1–5 (2018)\n",
            "XC functionals = HF,\n",
            "\n",
            "radial grids: \n",
            "    Treutler-Ahlrichs [JCP 102, 346 (1995); DOI:10.1063/1.469408] (M4) radial grids\n",
            "    \n",
            "becke partition: Becke, JCP 88, 2547 (1988); DOI:10.1063/1.454033\n",
            "pruning grids: <function nwchem_prune at 0x7fdad762e3e0>\n",
            "grids dens level: 3\n",
            "symmetrized grids: False\n",
            "atomic radii adjust function: <function treutler_atomic_radii_adjust at 0x7fdad762e8e0>\n",
            "small_rho_cutoff = 1e-07\n",
            "Set gradient conv threshold to 3.16228e-05\n",
            "tot grids = 34312\n",
            "init E= -76.6027940974385\n",
            "  alpha nocc = 5  HOMO = -0.274490145224303  LUMO = 0.0285693119465351\n",
            "  beta  nocc = 5  HOMO = -0.283009492927649  LUMO = 0.025900279839789\n",
            "cycle= 1 E= -76.4243055416767  delta_E= 0.178  |g|= 0.352  |ddm|= 1.03\n",
            "  alpha nocc = 5  HOMO = -0.205259060481781  LUMO = -0.0212431738598919\n",
            "  beta  nocc = 5  HOMO = -0.205529736894511  LUMO = -0.0212174781228985\n",
            "cycle= 2 E= -76.3406468257007  delta_E= 0.0837  |g|= 0.587  |ddm|= 0.509\n",
            "  alpha nocc = 5  HOMO = -0.327525010409536  LUMO = -0.0312962296232061\n",
            "  beta  nocc = 5  HOMO = -0.327605884749035  LUMO = -0.031421993017965\n",
            "cycle= 3 E= -76.4719814264581  delta_E= -0.131  |g|= 0.0388  |ddm|= 0.326\n",
            "  alpha nocc = 5  HOMO = -0.314280692576122  LUMO = -0.0266159642027641\n",
            "  beta  nocc = 5  HOMO = -0.314552134769367  LUMO = -0.0267238216134816\n",
            "cycle= 4 E= -76.4725588594274  delta_E= -0.000577  |g|= 0.00346  |ddm|= 0.0228\n",
            "  alpha nocc = 5  HOMO = -0.313412056326475  LUMO = -0.026433591076352\n",
            "  beta  nocc = 5  HOMO = -0.313819921428149  LUMO = -0.0265400521872195\n",
            "cycle= 5 E= -76.4725642804287  delta_E= -5.42e-06  |g|= 0.00057  |ddm|= 0.00341\n",
            "  alpha nocc = 5  HOMO = -0.31353704165801  LUMO = -0.0264738247316777\n",
            "  beta  nocc = 5  HOMO = -0.314034277467157  LUMO = -0.0265793234078343\n",
            "cycle= 6 E= -76.4725645615661  delta_E= -2.81e-07  |g|= 0.000128  |ddm|= 0.00072\n",
            "  alpha nocc = 5  HOMO = -0.313508522555479  LUMO = -0.0264689344640705\n",
            "  beta  nocc = 5  HOMO = -0.314049774074209  LUMO = -0.026573629649344\n",
            "cycle= 7 E= -76.4725645872633  delta_E= -2.57e-08  |g|= 1.95e-05  |ddm|= 0.000307\n",
            "  alpha nocc = 5  HOMO = -0.313500887259656  LUMO = -0.0264693135794246\n",
            "  beta  nocc = 5  HOMO = -0.314045920492489  LUMO = -0.0265738914706585\n",
            "cycle= 8 E= -76.4725645875313  delta_E= -2.68e-10  |g|= 1.74e-06  |ddm|= 2.42e-05\n",
            "  alpha nocc = 5  HOMO = -0.313501727713387  LUMO = -0.0264694199463986\n",
            "  beta  nocc = 5  HOMO = -0.314047100386272  LUMO = -0.0265739911774604\n",
            "Extra cycle  E= -76.472564587527  delta_E= 4.31e-12  |g|= 2.54e-06  |ddm|= 2.55e-06\n",
            "converged SCF energy = -76.472564587527  <S^2> = 4.2381575e-06  2S+1 = 1.0000085\n",
            "-76.47256458752696\n"
          ]
        }
      ]
    }
  ]
}